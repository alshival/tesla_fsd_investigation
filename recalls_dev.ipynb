{
 "cells": [
  {
   "cell_type": "code",
   "execution_count": 1,
   "metadata": {},
   "outputs": [
    {
     "name": "stdout",
     "output_type": "stream",
     "text": [
      "Configuration loaded successfully.\n"
     ]
    }
   ],
   "source": [
    "import pandas as pd\n",
    "import requests\n",
    "import time\n",
    "from datetime import date, datetime\n",
    "\n",
    "from config import *\n",
    "\n",
    "########################################\n",
    "# Main function to download complaints\n",
    "########################################\n",
    "# Function to get complaints from NHTSA API\n",
    "import requests\n",
    "from requests.exceptions import Timeout, RequestException\n",
    "import time\n",
    "\n",
    "# Get recall years\n",
    "url = 'https://api.nhtsa.gov/products/vehicle/modelYears?issueType=r '\n",
    "response = requests.get(url).json()\n",
    "recalls_years = pd.DataFrame(response['results'])\n",
    "db = pg_connect()\n",
    "recalls_years.to_sql('recalls_years',db,index=False,if_exists='replace')\n",
    "db.dispose()"
   ]
  },
  {
   "cell_type": "code",
   "execution_count": 2,
   "metadata": {},
   "outputs": [
    {
     "name": "stdout",
     "output_type": "stream",
     "text": [
      "Duplicates removed from recalls_makes_for_years\n"
     ]
    }
   ],
   "source": [
    "# Get makes for recall year\n",
    "def get_makes_for_recalls_year(year,retries=3, timeout=30):\n",
    "    url = f'https://api.nhtsa.gov/products/vehicle/makes?modelYear={year}&issueType=r'\n",
    "    attempt = 0\n",
    "    while attempt < retries:\n",
    "            try:\n",
    "                # Make the GET request to the NHTSA API with a timeout\n",
    "                response = requests.get(url, timeout=timeout)\n",
    "                \n",
    "                # Check if the request was successful\n",
    "                if response.status_code == 200:\n",
    "                    # Return the JSON response\n",
    "                    return response.json().get('results', [])\n",
    "                elif response.status_code == 400:\n",
    "                    return None\n",
    "                else:\n",
    "                    # Return an error message\n",
    "                    return None\n",
    "            except Timeout:\n",
    "                # Handle timeout exception\n",
    "                attempt += 1\n",
    "                print(f\"Attempt {attempt} timed out. Retrying...\")\n",
    "                time.sleep(5)  # wait before retrying\n",
    "            except RequestException as e:\n",
    "                attempt += 1\n",
    "                # Handle other request exceptions\n",
    "                print(f\"Request failed: {e}\")\n",
    "                time.sleep(5)\n",
    "            except Exception as e:\n",
    "                attempt += 1\n",
    "                print(f\"Request failed: {e}\")\n",
    "                time.sleep(5)\n",
    "\n",
    "    # If all attempts fail, return None\n",
    "    print(\"All attempts to contact the API have failed.\")\n",
    "    return None\n",
    "\n",
    "# download makes for recall years\n",
    "db = pg_connect()\n",
    "for year in recalls_years['modelYear'][recalls_years['modelYear'].apply(int)>=2019]:\n",
    "    temp =get_makes_for_recalls_year(year)\n",
    "    temp_df = pd.DataFrame(temp)\n",
    "    if len(temp_df) > 0:\n",
    "        temp_df.to_sql('recalls_makes_for_years',db,index=False,if_exists='append')\n",
    "db.dispose()\n",
    "\n",
    "pg_clean_table('recalls_makes_for_years')"
   ]
  },
  {
   "cell_type": "code",
   "execution_count": 3,
   "metadata": {},
   "outputs": [
    {
     "name": "stdout",
     "output_type": "stream",
     "text": [
      "recalls_model_download_tracker updated\n"
     ]
    }
   ],
   "source": [
    "# Get makes for recall year\n",
    "def get_models_for_make_recall_years(year,make,retries=3, timeout=30):\n",
    "    url = f'https://api.nhtsa.gov/products/vehicle/models?modelYear={year}&make={make}&issueType=r'\n",
    "    attempt = 0\n",
    "    while attempt < retries:\n",
    "            try:\n",
    "                # Make the GET request to the NHTSA API with a timeout\n",
    "                response = requests.get(url, timeout=timeout)\n",
    "                \n",
    "                # Check if the request was successful\n",
    "                if response.status_code == 200:\n",
    "                    # Return the JSON response\n",
    "                    return response.json().get('results', [])\n",
    "                elif response.status_code == 400:\n",
    "                    return None\n",
    "                else:\n",
    "                    # Return an error message\n",
    "                    return None\n",
    "            except Timeout:\n",
    "                # Handle timeout exception\n",
    "                attempt += 1\n",
    "                print(f\"Attempt {attempt} timed out. Retrying...\")\n",
    "                time.sleep(5)  # wait before retrying\n",
    "            except RequestException as e:\n",
    "                attempt += 1\n",
    "                # Handle other request exceptions\n",
    "                print(f\"Request failed: {e}\")\n",
    "                time.sleep(5)\n",
    "            except Exception as e:\n",
    "                attempt += 1\n",
    "                print(f\"Request failed: {e}\")\n",
    "                time.sleep(5)\n",
    "\n",
    "    # If all attempts fail, return None\n",
    "    print(\"All attempts to contact the API have failed.\")\n",
    "    return None\n",
    "    \n",
    "\n",
    "# Create table to track model updates\n",
    "if 'recalls_model_download_tracker' not in pg_tables():\n",
    "    query = \"\"\"\n",
    "create table recalls_model_download_tracker as\n",
    "select\n",
    "\t*,\n",
    "\tCURRENT_TIMESTAMP - interval '1000 years' as models_last_updated,\n",
    "    0 as models_downloaded\n",
    "from recalls_makes_for_years\n",
    "\"\"\"\n",
    "    pg_execute(query)\n",
    "    print(\"recalls_model_download_tracker table created\")\n",
    "\n",
    "# Update model download tracker\n",
    "pg_execute(\"\"\"\n",
    "INSERT INTO recalls_model_download_tracker\n",
    "select distinct on (\"modelYear\",\"make\")\n",
    "\t\"modelYear\",\n",
    "\t\"make\",\n",
    "\tCURRENT_TIMESTAMP - interval '1000 years' as models_last_updated,\n",
    "    0 as models_downloaded\n",
    "from recalls_makes_for_years\n",
    "where (\"modelYear\",\"make\") not in (select \"modelYear\",\"make\" from recalls_model_download_tracker)\n",
    "\"\"\")\n",
    "print(\"recalls_model_download_tracker updated\")"
   ]
  },
  {
   "cell_type": "code",
   "execution_count": 4,
   "metadata": {},
   "outputs": [
    {
     "name": "stdout",
     "output_type": "stream",
     "text": [
      "Duplicates removed from recalls_models\n"
     ]
    }
   ],
   "source": [
    "recalls_model_download_tracker = pg_query(\"\"\"\n",
    "select\n",
    "    *\n",
    "from recalls_model_download_tracker\n",
    "where models_last_updated < current_date - interval '15 days'\n",
    "and \"modelYear\"::int >= extract(year from current_date) - 5\n",
    "\"\"\")\n",
    "\n",
    "db = pg_connect()\n",
    "for _,row in recalls_model_download_tracker.iterrows():\n",
    "    temp = get_models_for_make_recall_years(row['modelYear'],row['make'])\n",
    "    temp_df = pd.DataFrame(temp)\n",
    "    temp_df.to_sql('recalls_models',db,index=False,if_exists='append')\n",
    "    time.sleep(1)\n",
    "    with db.connect() as connection:\n",
    "        query = text(\"\"\"\n",
    "                   update recalls_model_download_tracker\n",
    "                   set models_last_updated = current_timestamp, models_downloaded = :a\n",
    "                   where \"modelYear\"::int = :x and \"make\" = :y\n",
    "                   \"\"\")\n",
    "        connection.execute(query,{'a':len(temp_df),'x':row['modelYear'],'y':row['make']})\n",
    "        connection.commit()\n",
    "    print(f'recall models for {row['modelYear']} {row['make']} updated')\n",
    "db.dispose()\n",
    "\n",
    "pg_clean_table('recalls_models')"
   ]
  },
  {
   "cell_type": "code",
   "execution_count": 5,
   "metadata": {},
   "outputs": [
    {
     "name": "stdout",
     "output_type": "stream",
     "text": [
      "recalls_download_tracker table created\n"
     ]
    },
    {
     "data": {
      "text/plain": [
       "'done'"
      ]
     },
     "execution_count": 5,
     "metadata": {},
     "output_type": "execute_result"
    }
   ],
   "source": [
    "if 'recalls_download_tracker' not in pg_tables():\n",
    "    query = \"\"\"\n",
    "create table recalls_download_tracker as\n",
    "select\n",
    "\t*,\n",
    "\tCURRENT_TIMESTAMP - interval '1000 years' as recalls_last_updated,\n",
    "    0 as total_recalls\n",
    "from recalls_models\n",
    "\"\"\"\n",
    "    pg_execute(query)\n",
    "    print(\"recalls_download_tracker table created\")\n",
    "\n",
    "# Update complaint download tracker\n",
    "pg_execute(\"\"\"\n",
    "INSERT INTO recalls_download_tracker\n",
    "select distinct on (\"modelYear\",\"make\",\"model\")\n",
    "\t\"modelYear\",\n",
    "\t\"make\",\n",
    "    \"model\",\n",
    "\tCURRENT_TIMESTAMP - interval '1000 years' as recalls_last_updated,\n",
    "    0 as total_recalls\n",
    "from recalls_models\n",
    "where (\"modelYear\",\"make\",\"model\") not in (select \"modelYear\",\"make\",\"model\" from recalls_download_tracker)\n",
    "\"\"\")"
   ]
  },
  {
   "cell_type": "code",
   "execution_count": 6,
   "metadata": {},
   "outputs": [
    {
     "name": "stdout",
     "output_type": "stream",
     "text": [
      "Attempt 1 timed out. Retrying...\n",
      "recalls updated\n"
     ]
    }
   ],
   "source": [
    "# Get makes for ratings year\n",
    "def get_recalls(year,make,model,retries=3, timeout=30):\n",
    "    url = f'https://api.nhtsa.gov/recalls/recallsByVehicle?make={make}&model={model}&modelYear={year}'\n",
    "    attempt = 0\n",
    "    while attempt < retries:\n",
    "            try:\n",
    "                # Make the GET request to the NHTSA API with a timeout\n",
    "                response = requests.get(url, timeout=timeout)\n",
    "                \n",
    "                # Check if the request was successful\n",
    "                if response.status_code == 200:\n",
    "                    # Return the JSON response\n",
    "                    return response.json().get('results', [])\n",
    "                elif response.status_code == 400:\n",
    "                    return None\n",
    "                else:\n",
    "                    # Return an error message\n",
    "                    return None\n",
    "            except Timeout:\n",
    "                # Handle timeout exception\n",
    "                attempt += 1\n",
    "                print(f\"Attempt {attempt} timed out. Retrying...\")\n",
    "                time.sleep(5)  # wait before retrying\n",
    "            except RequestException as e:\n",
    "                attempt += 1\n",
    "                # Handle other request exceptions\n",
    "                print(f\"Request failed: {e}\")\n",
    "                time.sleep(5)\n",
    "            except Exception as e:\n",
    "                attempt += 1\n",
    "                print(f\"Request failed: {e}\")\n",
    "                time.sleep(5)\n",
    "\n",
    "    # If all attempts fail, return None\n",
    "    print(\"All attempts to contact the API have failed.\")\n",
    "    return None\n",
    "\n",
    "recalls_download_tracker = pg_query(\"\"\"\n",
    "select \n",
    "    *,\n",
    "    random()\n",
    "from recalls_download_tracker\n",
    "where recalls_last_updated < current_date - interval '14 days'\n",
    "and \"modelYear\"::int >= extract(year from current_date) - 5\n",
    "order by random()\n",
    "limit 750\n",
    "\"\"\")\n",
    "\n",
    "db = pg_connect()\n",
    "for _, row in recalls_download_tracker.iterrows():\n",
    "    temp = get_recalls(row['modelYear'],row['make'],row['model'])\n",
    "    temp_df = pd.DataFrame(temp)\n",
    "    missing_columns = [x for x in ['Manufacturer', 'NHTSACampaignNumber', 'parkIt', 'parkOutSide',\n",
    "       'ReportReceivedDate', 'Component', 'Summary', 'Consequence', 'Remedy',\n",
    "       'Notes', 'ModelYear', 'Make', 'Model', 'NHTSAActionNumber'] if x not in temp_df.columns]\n",
    "    for col in missing_columns:\n",
    "        temp_df[col] = None\n",
    "    if len(temp_df) > 0:\n",
    "        temp_df.to_sql('recalls',db,index=False,if_exists = 'append',)\n",
    "    with db.connect() as connection:\n",
    "        query = text(\"\"\"\n",
    "        update recalls_download_tracker\n",
    "        set recalls_last_updated = current_timestamp, total_recalls = :t\n",
    "        where \"modelYear\" = :x and \"make\" = :y and \"model\" = :z\n",
    "        \"\"\")\n",
    "        connection.execute(query,{'t':temp_df.shape[0],'x':row['modelYear'],'y':row['make'],'z':row['model']})\n",
    "        connection.commit()\n",
    "    time.sleep(1)\n",
    "\n",
    "pg_execute(\"drop table if exists recalls_backup\")\n",
    "pg_execute(\"\"\"\n",
    "create table recalls_backup as\n",
    "select distinct on (\"NHTSACampaignNumber\",\"ModelYear\",\"Make\",\"Model\")\n",
    "*\n",
    "from recalls\n",
    "order by \"NHTSACampaignNumber\",\"ModelYear\",\"Make\",\"Model\", \"NHTSAActionNumber\" desc\n",
    "\"\"\")\n",
    "pg_execute(\"delete from recalls\")\n",
    "pg_execute(\"\"\"\n",
    "insert into recalls\n",
    "select * from recalls_backup\n",
    "\"\"\")\n",
    "pg_execute(\"drop table recalls_backup\")\n",
    "print(\"recalls updated\")"
   ]
  }
 ],
 "metadata": {
  "kernelspec": {
   "display_name": ".env",
   "language": "python",
   "name": "python3"
  },
  "language_info": {
   "codemirror_mode": {
    "name": "ipython",
    "version": 3
   },
   "file_extension": ".py",
   "mimetype": "text/x-python",
   "name": "python",
   "nbconvert_exporter": "python",
   "pygments_lexer": "ipython3",
   "version": "3.12.3"
  }
 },
 "nbformat": 4,
 "nbformat_minor": 2
}
