{
 "cells": [
  {
   "cell_type": "code",
   "execution_count": 2,
   "metadata": {},
   "outputs": [],
   "source": [
    "####################\n",
    "# Kagle Update\n",
    "####################\n",
    "import os\n",
    "from config import *\n",
    "\n",
    "dataDir = 'kaggle_files/'\n",
    "# complaints\n",
    "pg_query(\"select distinct on (\\\"odiNumber\\\") * from complaints\").to_csv(os.path.join(dataDir,'complaints.csv'),index=False)\n",
    "# car models\n",
    "pg_query(\"\"\"\n",
    "select\n",
    "\t*\n",
    "from complaints_models\n",
    "where \"modelYear\"::int >= 2019\n",
    "\"\"\").to_csv(os.path.join(dataDir,'car_models.csv'),index=False)\n",
    "# ratings\n",
    "pg_query(\"\"\"\n",
    "select distinct on (\"ModelYear\",\"Make\",\"Model\",\"VehicleId\")\n",
    "\t*\n",
    "from ratings order by \"ModelYear\",\"Make\",\"Model\",\"VehicleId\", rating_updated_on desc\n",
    "\"\"\").to_csv(os.path.join(dataDir,'ratings.csv'),index=False)\n",
    "# recalls\n",
    "pg_query(\"\"\"\n",
    "select distinct on (\"NHTSACampaignNumber\",\"ReportReceivedDate\",\"Component\",\"ModelYear\",\"Make\",\"Model\")\n",
    "\t*\n",
    "from recalls\n",
    "order by \"NHTSACampaignNumber\",\"ReportReceivedDate\",\"Component\",\"ModelYear\",\"Make\",\"Model\", \"NHTSAActionNumber\" nulls last\n",
    "\"\"\").to_csv(os.path.join(dataDir,'recalls.csv'),index=False)\n",
    "# investigations\n",
    "pg_query(\"\"\"\n",
    "select * from investigations\n",
    "\"\"\").to_csv(os.path.join(dataDir,'investigations.csv'),index=False)\n",
    "\n",
    "import subprocess\n",
    "\n",
    "# Define the PowerShell command\n",
    "command = 'kaggle datasets version -p .\\\\kaggle_files\\\\ -m \"Daily update\"'\n",
    "\n",
    "# Execute the PowerShell command\n",
    "result = subprocess.run([\"powershell\", \"-Command\", command], capture_output=True, text=True)\n",
    "\n",
    "# Print the output and error (if any)\n",
    "print(\"Output:\", result.stdout)\n",
    "print(\"Error:\", result.stderr)"
   ]
  }
 ],
 "metadata": {
  "kernelspec": {
   "display_name": ".env",
   "language": "python",
   "name": "python3"
  },
  "language_info": {
   "codemirror_mode": {
    "name": "ipython",
    "version": 3
   },
   "file_extension": ".py",
   "mimetype": "text/x-python",
   "name": "python",
   "nbconvert_exporter": "python",
   "pygments_lexer": "ipython3",
   "version": "3.12.3"
  }
 },
 "nbformat": 4,
 "nbformat_minor": 2
}
